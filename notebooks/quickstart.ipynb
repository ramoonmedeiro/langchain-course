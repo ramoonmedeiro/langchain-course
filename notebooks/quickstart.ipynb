{
 "cells": [
  {
   "cell_type": "code",
   "execution_count": 2,
   "metadata": {},
   "outputs": [],
   "source": [
    "import os\n",
    "from dotenv import find_dotenv, load_dotenv\n",
    "\n",
    "load_dotenv(find_dotenv())\n",
    "\n",
    "groq_api_key = os.getenv(\"GROQ_API_KEY\")"
   ]
  },
  {
   "cell_type": "markdown",
   "metadata": {},
   "source": [
    "# Normal Use"
   ]
  },
  {
   "cell_type": "code",
   "execution_count": 3,
   "metadata": {},
   "outputs": [],
   "source": [
    "from langchain_groq import ChatGroq\n",
    "\n",
    "llm = ChatGroq(\n",
    "    model=\"llama3-8b-8192\",\n",
    "    temperature=0,\n",
    "    max_tokens=None,\n",
    "    timeout=None,\n",
    "    max_retries=2,\n",
    ")"
   ]
  },
  {
   "cell_type": "markdown",
   "metadata": {},
   "source": [
    "# Uso básico de prompt"
   ]
  },
  {
   "cell_type": "code",
   "execution_count": 4,
   "metadata": {},
   "outputs": [],
   "source": [
    "from langchain.prompts import PromptTemplate\n",
    "from langchain_core.output_parsers import StrOutputParser\n",
    "from langchain.chains import LLMChain\n",
    "\n",
    "template = \"\"\"\n",
    "Você é um especialista em códigos {language} e um ótimo QA tester. Sua tarefa é auxiliar\n",
    "na criação de códigos para testes na linguagem {language}. Você irá receber\n",
    "o código representando uma função {language} logo abaixo entre aspas:\n",
    "\n",
    "Exemplo de código:\n",
    "'''{code}'''\n",
    "\"\"\"\n",
    "\n",
    "prompt = PromptTemplate(template=template, input_variables=[\"language\", \"code\"])\n",
    "\n",
    "# chain = LLMChain(llm=llm, prompt=prompt)\n",
    "# ou\n",
    "\n",
    "chain = prompt | llm | StrOutputParser()"
   ]
  },
  {
   "cell_type": "code",
   "execution_count": 5,
   "metadata": {},
   "outputs": [],
   "source": [
    "language = \"Python\"\n",
    "code = \"\"\"\n",
    "def hello_world():\n",
    "    return \"hello world\"\n",
    "\"\"\"\n",
    "\n",
    "response_llm = chain.invoke({\n",
    "    \"language\": language,\n",
    "    \"code\": code\n",
    "})"
   ]
  },
  {
   "cell_type": "code",
   "execution_count": 6,
   "metadata": {},
   "outputs": [
    {
     "name": "stdout",
     "output_type": "stream",
     "text": [
      "Olá! Estou aqui para ajudar com a criação de códigos para testes em Python. O código que você forneceu é uma função simples que retorna a string \"hello world\". Para testar essa função, podemos criar testes unitários utilizando a biblioteca unittest do Python.\n",
      "\n",
      "Aqui está um exemplo de como podemos criar testes para essa função:\n",
      "```\n",
      "import unittest\n",
      "\n",
      "def hello_world():\n",
      "    return \"hello world\"\n",
      "\n",
      "class TestHelloWorld(unittest.TestCase):\n",
      "    def test_hello_world(self):\n",
      "        self.assertEqual(hello_world(), \"hello world\")\n",
      "\n",
      "if __name__ == '__main__':\n",
      "    unittest.main()\n",
      "```\n",
      "Nesse exemplo, criamos uma classe `TestHelloWorld` que herda da classe `unittest.TestCase`. Dentro dessa classe, criamos um método `test_hello_world` que testa se a função `hello_world` retorna a string \"hello world\". Utilizamos o método `assertEqual` para verificar se o resultado da função é igual à string esperada.\n",
      "\n",
      "Para executar esses testes, podemos rodar o arquivo com o comando `python -m unittest nome_do_arquivo.py`. Isso executará todos os testes definidos na classe `TestHelloWorld` e mostrará se eles passaram ou falharam.\n",
      "\n",
      "Se você quiser adicionar mais testes para essa função, basta criar mais métodos na classe `TestHelloWorld` e utilizar os métodos de verificação da biblioteca unittest para verificar se a função está funcionando corretamente.\n",
      "\n",
      "Além disso, se você quiser testar a função com diferentes entradas, você pode utilizar o método `assertRaises` para verificar se a função lança um erro com uma entrada específica. Por exemplo:\n",
      "```\n",
      "def test_hello_world_with_invalid_input(self):\n",
      "    with self.assertRaises(TypeError):\n",
      "        hello_world(123)\n",
      "```\n",
      "Esse teste verifica se a função `hello_world` lança um erro `TypeError` quando passada um argumento inválido (um número inteiro).\n",
      "\n",
      "Espero que isso ajude! Se você tiver alguma dúvida ou precisar de mais ajuda, sinta-se à vontade para perguntar.\n"
     ]
    }
   ],
   "source": [
    "print(response_llm)"
   ]
  },
  {
   "cell_type": "code",
   "execution_count": null,
   "metadata": {},
   "outputs": [],
   "source": []
  },
  {
   "cell_type": "code",
   "execution_count": null,
   "metadata": {},
   "outputs": [],
   "source": []
  },
  {
   "cell_type": "code",
   "execution_count": null,
   "metadata": {},
   "outputs": [],
   "source": []
  },
  {
   "cell_type": "code",
   "execution_count": null,
   "metadata": {},
   "outputs": [],
   "source": []
  },
  {
   "cell_type": "code",
   "execution_count": null,
   "metadata": {},
   "outputs": [],
   "source": []
  }
 ],
 "metadata": {
  "kernelspec": {
   "display_name": "langchain-examples-NuBMPSch-py3.10",
   "language": "python",
   "name": "python3"
  },
  "language_info": {
   "codemirror_mode": {
    "name": "ipython",
    "version": 3
   },
   "file_extension": ".py",
   "mimetype": "text/x-python",
   "name": "python",
   "nbconvert_exporter": "python",
   "pygments_lexer": "ipython3",
   "version": "3.10.12"
  }
 },
 "nbformat": 4,
 "nbformat_minor": 2
}

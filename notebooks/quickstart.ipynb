{
 "cells": [
  {
   "cell_type": "code",
   "execution_count": 1,
   "metadata": {},
   "outputs": [],
   "source": [
    "import os\n",
    "from dotenv import find_dotenv, load_dotenv\n",
    "\n",
    "load_dotenv(find_dotenv())\n",
    "\n",
    "gemini_api_key = os.getenv(\"GEMINI_API_KEY\")"
   ]
  },
  {
   "cell_type": "markdown",
   "metadata": {},
   "source": [
    "# Normal Use"
   ]
  },
  {
   "cell_type": "code",
   "execution_count": 2,
   "metadata": {},
   "outputs": [
    {
     "name": "stderr",
     "output_type": "stream",
     "text": [
      "/home/cayena/.cache/pypoetry/virtualenvs/langchain-examples-NuBMPSch-py3.10/lib/python3.10/site-packages/tqdm/auto.py:21: TqdmWarning: IProgress not found. Please update jupyter and ipywidgets. See https://ipywidgets.readthedocs.io/en/stable/user_install.html\n",
      "  from .autonotebook import tqdm as notebook_tqdm\n"
     ]
    },
    {
     "name": "stdout",
     "output_type": "stream",
     "text": [
      "Los Angeles Lakers\n"
     ]
    }
   ],
   "source": [
    "from langchain_google_genai import ChatGoogleGenerativeAI\n",
    "\n",
    "llm = ChatGoogleGenerativeAI(model=\"gemini-pro\", google_api_key=gemini_api_key)\n",
    "result = llm.invoke(\"Quem venceu a NBA em 2020?\")\n",
    "print(result.content)"
   ]
  },
  {
   "cell_type": "markdown",
   "metadata": {},
   "source": [
    "# Uso básico de prompt"
   ]
  },
  {
   "cell_type": "code",
   "execution_count": 12,
   "metadata": {},
   "outputs": [],
   "source": [
    "from langchain.prompts import PromptTemplate\n",
    "from langchain_core.output_parsers import StrOutputParser\n",
    "from langchain.chains import LLMChain\n",
    "\n",
    "template = \"\"\"\n",
    "Você é um especialista em códigos {language} e um ótimo QA tester. Sua tarefa é auxiliar\n",
    "na criação de códigos para testes na linguagem {language}. Você irá receber\n",
    "o código representando uma função {language} logo abaixo entre aspas:\n",
    "\n",
    "Exemplo de código:\n",
    "'''{code}'''\n",
    "\"\"\"\n",
    "\n",
    "prompt = PromptTemplate(template=template, input_variables=[\"language\", \"code\"])\n",
    "\n",
    "# chain = LLMChain(llm=llm, prompt=prompt)\n",
    "# ou\n",
    "\n",
    "chain = prompt | llm | StrOutputParser()"
   ]
  },
  {
   "cell_type": "code",
   "execution_count": 13,
   "metadata": {},
   "outputs": [],
   "source": [
    "language = \"Python\"\n",
    "code = \"\"\"\n",
    "def hello_world():\n",
    "    return \"hello world\"\n",
    "\"\"\"\n",
    "\n",
    "response_llm = chain.invoke({\n",
    "    \"language\": language,\n",
    "    \"code\": code\n",
    "})"
   ]
  },
  {
   "cell_type": "code",
   "execution_count": 14,
   "metadata": {},
   "outputs": [
    {
     "name": "stdout",
     "output_type": "stream",
     "text": [
      "**Testes para a função 'hello_world'**\n",
      "\n",
      "**1. Teste de sucesso:**\n",
      "\n",
      "```python\n",
      "import unittest\n",
      "\n",
      "class HelloWorldTest(unittest.TestCase):\n",
      "\n",
      "    def test_hello_world(self):\n",
      "        expected_output = \"hello world\"\n",
      "        output = hello_world()\n",
      "        self.assertEqual(output, expected_output)\n",
      "```\n",
      "\n",
      "**2. Teste de falha:**\n",
      "\n",
      "```python\n",
      "import unittest\n",
      "\n",
      "class HelloWorldTest(unittest.TestCase):\n",
      "\n",
      "    def test_hello_world_failure(self):\n",
      "        expected_output = \"hello earth\"\n",
      "        output = hello_world()\n",
      "        self.assertEqual(output, expected_output)\n",
      "```\n",
      "\n",
      "**3. Teste para verificar o tipo de retorno:**\n",
      "\n",
      "```python\n",
      "import unittest\n",
      "\n",
      "class HelloWorldTest(unittest.TestCase):\n",
      "\n",
      "    def test_hello_world_return_type(self):\n",
      "        output = hello_world()\n",
      "        self.assertIsInstance(output, str)\n",
      "```\n",
      "\n",
      "**4. Teste para casos de borda:**\n",
      "\n",
      "```python\n",
      "import unittest\n",
      "\n",
      "class HelloWorldTest(unittest.TestCase):\n",
      "\n",
      "    def test_hello_world_empty_string(self):\n",
      "        expected_output = \"\"\n",
      "        output = hello_world()\n",
      "        self.assertEqual(output, expected_output)\n",
      "\n",
      "    def test_hello_world_none(self):\n",
      "        expected_output = None\n",
      "        output = hello_world()\n",
      "        self.assertEqual(output, expected_output)\n",
      "```\n",
      "\n",
      "**5. Teste de exceção:**\n",
      "\n",
      "```python\n",
      "import unittest\n",
      "\n",
      "class HelloWorldTest(unittest.TestCase):\n",
      "\n",
      "    def test_hello_world_exception(self):\n",
      "        with self.assertRaises(Exception):\n",
      "            hello_world(1)  # Passando um argumento inválido\n",
      "```\n"
     ]
    }
   ],
   "source": [
    "print(response_llm)"
   ]
  },
  {
   "cell_type": "code",
   "execution_count": null,
   "metadata": {},
   "outputs": [],
   "source": []
  },
  {
   "cell_type": "code",
   "execution_count": null,
   "metadata": {},
   "outputs": [],
   "source": []
  },
  {
   "cell_type": "code",
   "execution_count": null,
   "metadata": {},
   "outputs": [],
   "source": []
  },
  {
   "cell_type": "code",
   "execution_count": null,
   "metadata": {},
   "outputs": [],
   "source": []
  },
  {
   "cell_type": "code",
   "execution_count": null,
   "metadata": {},
   "outputs": [],
   "source": []
  }
 ],
 "metadata": {
  "kernelspec": {
   "display_name": "langchain-examples-NuBMPSch-py3.10",
   "language": "python",
   "name": "python3"
  },
  "language_info": {
   "codemirror_mode": {
    "name": "ipython",
    "version": 3
   },
   "file_extension": ".py",
   "mimetype": "text/x-python",
   "name": "python",
   "nbconvert_exporter": "python",
   "pygments_lexer": "ipython3",
   "version": "3.10.12"
  }
 },
 "nbformat": 4,
 "nbformat_minor": 2
}
